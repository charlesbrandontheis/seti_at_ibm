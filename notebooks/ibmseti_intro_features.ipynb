{
 "cells": [
  {
   "cell_type": "markdown",
   "metadata": {},
   "source": [
    "# IBM SETI Tutorial\n",
    "\n",
    "## Get data from Object Store and calculate features"
   ]
  },
  {
   "cell_type": "code",
   "execution_count": 1,
   "metadata": {
    "collapsed": false
   },
   "outputs": [],
   "source": [
    "#!pip install --user --upgrade ibmseti\n",
    "#!pip install --user --upgrade ibmos2spark\n",
    "import ibmseti\n",
    "import ibmos2spark as oss\n",
    "%matplotlib inline\n",
    "import numpy as np\n",
    "import matplotlib.pyplot as plt"
   ]
  },
  {
   "cell_type": "code",
   "execution_count": 2,
   "metadata": {
    "collapsed": false
   },
   "outputs": [],
   "source": [
    "credentials_1 = {\n",
    "  'auth_uri':'',\n",
    "  'global_account_auth_uri':'',\n",
    "  'username':'xxx',\n",
    "  'password':\"xxx\",\n",
    "  'auth_url':'https://identity.open.softlayer.com',\n",
    "  'project':'xxx',\n",
    "  'project_id':'xxx',\n",
    "  'region':'dallas',\n",
    "  'user_id':'xx',\n",
    "  'domain_id':'xx',\n",
    "  'domain_name':'xx',\n",
    "  'container':'seti_raw_data',\n",
    "  'tenantId':'xx'\n",
    "}\n",
    "\n",
    "credentials_1['name'] = 'my_seti_data'"
   ]
  },
  {
   "cell_type": "code",
   "execution_count": 3,
   "metadata": {
    "collapsed": true
   },
   "outputs": [],
   "source": [
    "bmos = oss.bluemix2d(sc, credentials_1)\n",
    "rdd = sc.pickleFile(bmos.url('seti_raw_data', 'kepler1229b.sigdb.archive-compamps.rdd.dict.pickle'))"
   ]
  },
  {
   "cell_type": "markdown",
   "metadata": {},
   "source": [
    "## Extract the Spectrograms from each file"
   ]
  },
  {
   "cell_type": "code",
   "execution_count": 4,
   "metadata": {
    "collapsed": true
   },
   "outputs": [],
   "source": [
    "def extract_spectrogram_and_bins(row):\n",
    "\n",
    "    aca = ibmseti.compamp.Compamp(row['raw_data'])\n",
    "    \n",
    "    spect = ibmseti.dsp.compamp_to_spectrogram(aca)  \n",
    "    \n",
    "    #calculates the frequency (fb) and time (tb) bins\n",
    "    fb = ibmseti.dsp.frequency_bins(aca.header())\n",
    "    tb = ibmseti.dsp.time_bins(aca.header())\n",
    "\n",
    "    return (tb, fb, aca.header(), spect)"
   ]
  },
  {
   "cell_type": "code",
   "execution_count": 5,
   "metadata": {
    "collapsed": true
   },
   "outputs": [],
   "source": [
    "rdd = rdd.map(extract_spectrogram_and_bins)"
   ]
  },
  {
   "cell_type": "markdown",
   "metadata": {},
   "source": [
    "## Example Feature: \"standard deviation\" \n",
    "\n",
    "The calculation of the standard deviation of a set of values is used to measure the \"width\" of the distribution of those values about its central value. Typically this is done for sets of values which are the results of the measurement of a particlar property. However, in this case, it's used as a proxy to estimate if a signal exists in the spectrogram. If the signal is consistent over time, then the \"standard deviation\" along the time-axis will be large. But if the signal has significant power only within a small burst of time, the \"standard deviation\" along the time-axis will be small. Similarly for measures along the frequency-axis: small values are expected for narrow-band signals at a consistent frequency (low drift), while large values are expected for signals that either span a large range of frequencies. It should also be noted that the \"standard deviation\" along both time- and frequency-axis will be large if there is no signal. "
   ]
  },
  {
   "cell_type": "code",
   "execution_count": 6,
   "metadata": {
    "collapsed": true
   },
   "outputs": [],
   "source": [
    "import math\n",
    "\n",
    "def extract_mean_std(data):\n",
    "    std_time = np.mean(np.sqrt(ibmseti.features.moment( data, axis=0, moment=2)))\n",
    "    std_freq = np.mean(np.sqrt(ibmseti.features.moment( data, axis=1, moment=2)))\n",
    "    return (std_time, std_freq)"
   ]
  },
  {
   "cell_type": "code",
   "execution_count": 7,
   "metadata": {
    "collapsed": true
   },
   "outputs": [],
   "source": [
    "rdd_features = rdd.map(lambda x: extract_mean_std(x[3]))"
   ]
  },
  {
   "cell_type": "code",
   "execution_count": 8,
   "metadata": {
    "collapsed": false
   },
   "outputs": [
    {
     "name": "stdout",
     "output_type": "stream",
     "text": [
      "CPU times: user 35.6 ms, sys: 12.7 ms, total: 48.3 ms\n",
      "Wall time: 37.7 s\n"
     ]
    }
   ],
   "source": [
    "%time npfeat = np.array(rdd_features.collect())"
   ]
  },
  {
   "cell_type": "code",
   "execution_count": 9,
   "metadata": {
    "collapsed": false
   },
   "outputs": [
    {
     "data": {
      "image/png": "[encoded data removed]",
      "text/plain": [
       "<matplotlib.figure.Figure at 0x7fdfe80fd590>"
      ]
     },
     "metadata": {},
     "output_type": "display_data"
    }
   ],
   "source": [
    "plt.scatter(npfeat[:, 0], npfeat[:, 1])\n",
    "plt.show()"
   ]
  },
  {
   "cell_type": "markdown",
   "metadata": {},
   "source": [
    "### Features In Context\n",
    "\n",
    "Some work has been done already to extract the 'mean_std' features for all archive-compamp files.\n",
    "\n",
    "http://imgur.com/siffvT8\n",
    "\n",
    "From that link, you'll see these data fall right in the middle of that full archive-compamp set. The idea is to come up with features that allow for classification of signals. This is very much unexplored data!\n"
   ]
  },
  {
   "cell_type": "markdown",
   "metadata": {},
   "source": [
    "## More features to be considered:\n",
    "\n",
    "* std of spectrogram projected on time and freq axis\n",
    "* third and fourth moments (std is sqrt(2nd moment))\n",
    "* Log(pixel) histogram fits\n",
    "* Entropy\n",
    "* Total Variation\n",
    "* Maximum Variation\n",
    "* Mean first-difference\n",
    "* 2nd, 3rd and 4th moments of first-difference\n",
    "* Excess Kurtosis"
   ]
  },
  {
   "cell_type": "code",
   "execution_count": null,
   "metadata": {
    "collapsed": true
   },
   "outputs": [],
   "source": []
  }
 ],
 "metadata": {
  "kernelspec": {
   "display_name": "Python 2",
   "language": "python",
   "name": "python2"
  },
  "language_info": {
   "codemirror_mode": {
    "name": "ipython",
    "version": 2
   },
   "file_extension": ".py",
   "mimetype": "text/x-python",
   "name": "python",
   "nbconvert_exporter": "python",
   "pygments_lexer": "ipython2",
   "version": "2.7.11"
  }
 },
 "nbformat": 4,
 "nbformat_minor": 0
}