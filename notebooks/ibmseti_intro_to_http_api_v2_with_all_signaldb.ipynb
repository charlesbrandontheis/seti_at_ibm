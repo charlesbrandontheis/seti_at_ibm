{
 "cells": [
  {
   "cell_type": "markdown",
   "metadata": {
    "deletable": true,
    "editable": true
   },
   "source": [
    "# IBM SETI Tutorial \n",
    "\n",
    "Full documentation can be found here: https://github.com/ibm-cds-labs/seti_at_ibm/blob/master/setigopublic.md\n",
    "\n"
   ]
  },
  {
   "cell_type": "code",
   "execution_count": 2,
   "metadata": {
    "collapsed": false,
    "deletable": true,
    "editable": true
   },
   "outputs": [],
   "source": [
    "import requests"
   ]
  },
  {
   "cell_type": "markdown",
   "metadata": {
    "deletable": true,
    "editable": true
   },
   "source": [
    "## Search For Data\n",
    "\n",
    "GET `/v1/coordinates/aca` \n",
    "\n",
    "#### Interesting Target\n",
    "\n",
    "Kepler 1229b, found here http://phl.upr.edu/projects/habitable-exoplanets-catalog, is a very intersting target. This candidate has an Earth similarity index (ESI) of 0.73 (Earth = 1.0, Mars = 0.64, Jupiter = 0.12) \n",
    "and is 770 light-years away. It is the 5th highest-ranked planet by ESI. According to the catalog, it's RA/DEC coordinates are 19.832 and 46.997, respectively. \n",
    "\n",
    "Please first be sure to have gone through the previous notebook [All Signaldb](https://github.com/ibm-cds-labs/seti_at_ibm/blob/master/notebooks/all_signaldb.ipynb) and downloaded the SignalDB database to your local filesystem."
    "\n",
    "Using the URL parameters, `ramin`, `ramax`, `decmin` and `decmax`, we define a box in the sky around that target and make our query. This ensures we find any data in the direction of the object -- allowing for a small range about its exact location.\n",
   ]
  },
  {
   "cell_type": "code",
   "execution_count": null,
   "metadata": {
    "collapsed": true
   },
   "outputs": [],
   "source": [
    "from pyspark.sql import SparkSession\n",
    "\n",
    "spark = SparkSession.builder.getOrCreate()\n",
    "\n",
    "df = spark.read\\\n",
    "  .format('org.apache.spark.sql.execution.datasources.csv.CSVFileFormat')\\\n",
    "  .option('header', 'true')\\\n",
    "  .option('inferschema', 'true')\\\n",
    "  .load('signaldb.csv')\n",
    "df.createOrReplaceTempView(\"signaldb\")"
   ]
  },
  {
   "cell_type": "code",
   "execution_count": null,
   "metadata": {
    "collapsed": false,
    "deletable": true,
    "editable": true
   },
   "outputs": [],
   "source": [
    "RA=19.832\n",
    "DEC=46.997\n",
    "box = 0.002\n",
    "\n",
    "df_k1229b = spark.sql(\"select * from signaldb where RA2000HR between {} and {} and dec2000deg between {} and {}\".format(RA-box, RA+box, DEC-box, DEC+box))"
   ]
  },
  {
   "cell_type": "code",
   "execution_count": null,
   "metadata": {
    "collapsed": false,
    "deletable": true,
    "editable": true
   },
   "outputs": [],
   "source": [
    "df_k1229b.groupBy(['RA2000HR','DEC2000DEG']).count().show()"
   ]
  },
  {
   "cell_type": "markdown",
   "metadata": {
    "deletable": true,
    "editable": true
   },
   "source": [
    "#### SignalDB Analysis\n",
    "\n",
    "There are many things to explore with the SignalDB data. You don't need to access the raw data (in the next step) in order to start visualizing and analyzing SETI data. \n",
    "\n",
    "It would be interesting to see a density plot of Candidate signals and \"candreason\"/\"sigreason\" versus position in the sky, the distribution of carrier wave signal frequencies (freqmhz), drift rates, and signal types for each RA/DEC position, etc. There are lots of plots to be generated from these data alone."
   ]
  },
  {
   "cell_type": "markdown",
   "metadata": {
    "deletable": true,
    "editable": true
   },
   "source": [
    "## Raw Signal Data\n",
    "\n",
    "GET `/v1/data/url/{containter}/{objectname}`\n",
    "\n",
    "The JSON returned above contains the **container** and **objectname** of the ACA file in our Object Store service. We can retrieve the data with an HTTP request.\n",
    "\n",
    "We use the `/v1/data/url/{container}/{objectname}` endpoint to obtain a temporary URL to the data store in Object Store. This temporary URL is valid only for 24 hours. Each Bluemix user will be alloted 20,000 temporary URLs per month. If you need more, however, send us a message and we can grant you more access. \n",
    "\n",
    "### Access Token\n",
    "\n",
    "For this HTTP endpoint only, you must supply a token. This requires you to have an IBM DSX account. In addition, this endpoint has a rate limit of 20,000 requests per month. (However, if you\n",
    "<a href=\"https://github.com/ibm-cds-labs/seti_at_ibm/blob/master/contact_us.md\" target=\"_blank\">make a compelling argument</a> for your analysis, this limit can be increased without a problem.)\n",
    "\n",
    "1. Click on the following link: <a href=\"https://setigopublic.mybluemix.net/token\" target=\"_blank\">https://setigopublic.mybluemix.net/token</a> (opens a new tab). \n",
    "\n",
    "2. Login to DSX/Bluemix. \n",
    "\n",
    "3. Copy the value of the token into the `params` object below. It is passed as a query parameter.\n",
    "\n",
    "4. Use this token for all future requests to the `/v1/data/url/{container}/{objectname}` endpoint. \n"
   ]
  },
  {
   "cell_type": "code",
   "execution_count": 6,
   "metadata": {
    "collapsed": true,
    "deletable": true,
    "editable": true
   },
   "outputs": [],
   "source": [
    "params = {'access_token':'123456890abcdefg'}"
   ]
  },
  {
   "cell_type": "code",
   "execution_count": null,
   "metadata": {
    "collapsed": true
   },
   "outputs": [],
   "source": [
    "row1 = df_k1229b.take(1)"
   ]
  },
  {
   "cell_type": "code",
   "execution_count": 7,
   "metadata": {
    "collapsed": false,
    "deletable": true,
    "editable": true
   },
   "outputs": [
    {
     "name": "stdout",
     "output_type": "stream",
     "text": [
      "URL: https://dal.objectstorage.open.softlayer.com/v1/AUTH_cdbef52bdf7a449c96936e1071f0a46b/setiCompAmp/2014-05-20/act14944/2014-05-20_13-00-01_UTC.act14944.dx2016.id-0.L.archive-compamp?temp_url_sig=8ad75d7896c42d83d53f382baa59c3e3a2331e80&temp_url_expires=1474444840\n",
      "file size:  1061928\n"
     ]
    }
   ],
   "source": [
    "#Get Temporary URL for the first object\n",
    "cont = row1[0]['container']\n",
    "objname = row1[0]['objectname']\n",
    "\n",
    "base_url = 'https://setigopublic.mybluemix.net/v1/data/url'  #this HTTP API returns a temporary URL for the container/objectname\n",
    "r = requests.get('/'.join([base_url, cont, objname]), params=params)\n",
    "r.raise_for_status()\n",
    "\n",
    "tmp_url = r.json()['temp_url']\n",
    "print 'URL:', tmp_url\n",
    "\n",
    "r_data = requests.get(tmp_url)\n",
    "r_data.raise_for_status()\n",
    "\n",
    "rawdata = r_data.content\n",
    "print 'file size: ', len(rawdata)"
   ]
  },
  {
   "cell_type": "code",
   "execution_count": 8,
   "metadata": {
    "collapsed": false,
    "deletable": true,
    "editable": true
   },
   "outputs": [
    {
     "name": "stdout",
     "output_type": "stream",
     "text": [
      "This data is licensed by the SETI Institute under the Create Commons BY 4.0 license. IBM has been granted non-exclusive permission by the SETI Institute to reproduce, prepare derivative works, and distribute copies of data, which have been provided to IBM, or will be provided in the future, by the SETI Institute under the Creative Commons BY 4.0 license. https://github.com/ibmjstart/SETI/blob/master/setigopublic.md#data-license\n"
     ]
    }
   ],
   "source": [
    "print r.json()['license_notification']"
   ]
  },
  {
   "cell_type": "code",
   "execution_count": null,
   "metadata": {
    "collapsed": true,
    "deletable": true,
    "editable": true
   },
   "outputs": [],
   "source": []
  }
 ],
 "metadata": {
  "kernelspec": {
   "display_name": "Python 2",
   "language": "python",
   "name": "python2"
  },
  "language_info": {
   "codemirror_mode": {
    "name": "ipython",
    "version": 2
   },
   "file_extension": ".py",
   "mimetype": "text/x-python",
   "name": "python",
   "nbconvert_exporter": "python",
   "pygments_lexer": "ipython2",
   "version": "2.7.13"
  }
 },
 "nbformat": 4,
 "nbformat_minor": 0
}
